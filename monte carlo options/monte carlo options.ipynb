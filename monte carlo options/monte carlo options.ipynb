{
 "cells": [
  {
   "cell_type": "markdown",
   "metadata": {},
   "source": [
    "# Problem 1 (K=37)"
   ]
  },
  {
   "cell_type": "markdown",
   "metadata": {},
   "source": [
    "When the strike price is above the initial price, the option has no instrinsic value, as it would not make sense to execute the call and buy the stock for a price greater than the current price. Therefore, the only value contained in the option is its time value (value due to the possibility that the stock increases in price before expiry). This is why the value of this option is close to 0 when K=37 and S0=35.07."
   ]
  },
  {
   "cell_type": "code",
   "execution_count": 246,
   "metadata": {},
   "outputs": [
    {
     "name": "stdout",
     "output_type": "stream",
     "text": [
      "Price of European Call when K=37: [1.54815033e-05]\n"
     ]
    }
   ],
   "source": [
    "import numpy as np\n",
    "np.set_printoptions(suppress=False)\n",
    " \n",
    "N = 15000\n",
    "S0 = 35.07 #initial price\n",
    "K = 37. #strike\n",
    "r = 0.05\n",
    "sigma = 0.0208 \n",
    "T = 90 / 365\n",
    "\n",
    "def european_call(N, S0, K, r, sigma, T):\n",
    "    ert = np.exp(-r*T)\n",
    "    Σ = 0\n",
    "    for i in range(N):\n",
    "        z = np.random.standard_normal(1) \n",
    "        ST = S0 * np.exp((r - 0.5*sigma**2)*T + sigma*np.sqrt(T)*z) # price at time t\n",
    "        Σ += max(ST - K, 0)\n",
    "\n",
    "    price = (ert/N)*Σ\n",
    "    return price\n",
    "    \n",
    "print(\"Price of European Call when K=37:\", european_call(N, S0, K, r, sigma, T))"
   ]
  },
  {
   "cell_type": "markdown",
   "metadata": {},
   "source": [
    "# Problem 2 (K=33)"
   ]
  },
  {
   "cell_type": "markdown",
   "metadata": {},
   "source": [
    "In this case, the strike price (33) is below the initial price (35.07), so the option has some instrinsic value, close in magnitude to the difference between the strike and current price."
   ]
  },
  {
   "cell_type": "code",
   "execution_count": 247,
   "metadata": {},
   "outputs": [
    {
     "name": "stdout",
     "output_type": "stream",
     "text": [
      "Price of European Call when K=33: [2.46981535]\n"
     ]
    }
   ],
   "source": [
    "K = 33\n",
    "print(\"Price of European Call when K=33:\", european_call(N, S0, K, r, sigma, T))"
   ]
  },
  {
   "cell_type": "markdown",
   "metadata": {},
   "source": [
    "# Problem 3"
   ]
  },
  {
   "cell_type": "markdown",
   "metadata": {},
   "source": [
    "As the strike price increases, the value of a European call option decreases. This is because a call option gives yo uthe right to purchase the underlying stock at the set strike price. If the strike price is above the current price at the time of expiry, the call option is worthless. The option contract still has some time value prior to expiry even if the strike price is above the current price, due to the possibility that the stock price increases above the strike price before expiry. However, this time value decays as expiry approaches, assuming that the strike is still above the current price. "
   ]
  },
  {
   "cell_type": "code",
   "execution_count": 248,
   "metadata": {},
   "outputs": [
    {
     "data": {
      "image/png": "[encoded data removed]",
      "text/plain": [
       "<Figure size 432x288 with 1 Axes>"
      ]
     },
     "metadata": {},
     "output_type": "display_data"
    }
   ],
   "source": [
    "import matplotlib.pyplot as plt\n",
    "\n",
    "prices = []\n",
    "for K in np.linspace(35.07, 50, 50):\n",
    "    price = european_call(N, S0, K, r, sigma, T)\n",
    "    prices.append(price)\n",
    "    \n",
    "plt.plot(np.linspace(35.07, 50, 50), prices);\n",
    "plt.xlabel('Strike Price')\n",
    "plt.ylabel('Price of European Call')\n",
    "plt.title('Option Price as a Function of Strike \\n Price (S0=35.07, r=0.05, sigma=0.0208)')\n",
    "plt.show()"
   ]
  }
 ],
 "metadata": {
  "kernelspec": {
   "display_name": "Python 3",
   "language": "python",
   "name": "python3"
  },
  "language_info": {
   "codemirror_mode": {
    "name": "ipython",
    "version": 3
   },
   "file_extension": ".py",
   "mimetype": "text/x-python",
   "name": "python",
   "nbconvert_exporter": "python",
   "pygments_lexer": "ipython3",
   "version": "3.6.5"
  }
 },
 "nbformat": 4,
 "nbformat_minor": 2
}
