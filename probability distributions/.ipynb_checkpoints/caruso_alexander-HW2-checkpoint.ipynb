{
 "cells": [
  {
   "cell_type": "markdown",
   "metadata": {},
   "source": [
    "## Problem 1"
   ]
  },
  {
   "cell_type": "markdown",
   "metadata": {},
   "source": [
    "__Problem 1.__ Answer the following questions: (5 points each).\n",
    "<br>\n",
    "__(a) What is a risk measure? How can risk measures be useful?__\n",
    "<br> A risk measure is a real-valued, single-number indicator *p* that assesses the joint impact of multiple risk factors. The risk factors upon which risk measures are derived are expressed as random variables $\\tilde{X_n}$. Risk measures are based on historical observations of the risk factors, and indicate the combined impact of those factors. Variance or standard deviation of portfolio returns, Sharpe Ratio, and VaR are examples of risk measures. Individual risk measures can be very useful within specific contexts. For example, in the context of portfolio optimization, measures like standard deviation or Sharpe Ratio are good for determining the amount of risk necessary to achieve a certain return. There may be a predefined goal for a minimum level of return, and risk measures can be used to minimize the level of risk taken to achieve this return. Risk measures are also useful for regulatory purposes. Regulatory entities often require firms to maintain a certain amout of additional capital on hand to account for market risks, and risk measures can be utilized to optimize the use of available capital while still meeting these regulatory requirements.\n",
    "<br>\n",
    "<br>\n",
    "__(b) What are the properties of a convex risk measure? What are the properties of a Coherent risk measure?__\n",
    "<br>\n",
    "Convex risk measures satisfy the following properties: Translational Invariance, Monotonicity, and Convexity. Translational Invariance implies that if risk-free cash flow is added to the risk factors, it reduces the risk measure by the exact same amount as the amount of the cash flow added. For any risk-free cash flow $\\textit{c}$, this can be expressed as:\n",
    "$$\n",
    "\\textit{p}(\\tilde{X_1} + \\textit{c}) = \\textit{p}(\\tilde{X_1}) - \\textit{c}\n",
    "$$\n",
    "<br>\n",
    "Monotonicity is defined such that it assigns a higher value to the risk measure for a more risky set of risk factors. Mathematically, this is expressed as:\n",
    "$$\n",
    "\\textit{p}(\\tilde{X_1}) \\leq \\textit{p}(\\tilde{X_2}) \n",
    "$$ where $\\tilde{X_1}$ and $\\tilde{X_2}$ are the random variable risk factors\n",
    "<br>\n",
    "<br>\n",
    "Convexity, in terms of risk measures, means that risk is reduced when it is spread over more risk factors / assets. This is known as diversification. Mathematically, this property can be expressed as follows: \n",
    "$$\n",
    "\\newcommand*\\textit{p}(\\alpha \\tilde{X_1} + (1 - \\alpha) \\tilde{X_2}) \\leq \\alpha \\textit{p}(\\tilde{X_1}) + (1 - \\alpha)\\textit{p}(\\tilde{X_2}) \n",
    "$$ \n",
    "for all $\\alpha \\in [0,1]$ \n",
    "<br>\n",
    "<br>\n",
    "Coherent risk measures satisfy all of the properties of convex risk measures, as well as a fourth property known as Positive Homogeneity. This property implies that risk measure scales linearly in the degree of risk exposure to risk factors $\\tilde{X_1}$. Therefore:\n",
    "$$\n",
    "\\textit{p}(\\alpha \\tilde{X_1}) = \\alpha \\textit{p}(\\tilde{X_2})\n",
    "$$"
   ]
  },
  {
   "cell_type": "markdown",
   "metadata": {},
   "source": [
    "## Problem 2"
   ]
  },
  {
   "cell_type": "markdown",
   "metadata": {},
   "source": [
    "__Problem 2__ Answer the following questions: (10 points each)\n",
    "<br>\n",
    "In a hurricane prone area, the hurricane season is graded on a discrete 0-6 scale, where '0' repre-\n",
    "sents a mild season and '6' represents the most severe season. Historical data on hurricanes in this\n",
    "area have been used to assign probabilities for these grades of the hurricane season, summarized as:\n",
    "{0.1, 0.2, 0.1, 0.3, 0.14, 0.11, 0.05}. This pure risk causes loss to property in amounts (in millions of USD)\n",
    "from {0, 5, 80, 140, 200, 500, 2000} corresponding to the grades of the hurricane season. Use\n",
    "Jupyter with Scikitlearn and Pandas to perform the following computations."
   ]
  },
  {
   "cell_type": "markdown",
   "metadata": {},
   "source": [
    "#### (a) What is the probability of extremes in a hurricane season?"
   ]
  },
  {
   "cell_type": "markdown",
   "metadata": {},
   "source": [
    "Probability of extremes = Probability of Grade 0 or 6 Hurricane = P(0) + P(6) = .1 + .05 = 15%"
   ]
  },
  {
   "cell_type": "code",
   "execution_count": 1,
   "metadata": {},
   "outputs": [
    {
     "name": "stdout",
     "output_type": "stream",
     "text": [
      "The probability of an extreme hurricane (grade 0 or 6) is 0.15\n"
     ]
    }
   ],
   "source": [
    "import numpy as np\n",
    "import matplotlib.pyplot as plt\n",
    "from matplotlib.pyplot import figure\n",
    "\n",
    "grades = [0,1,2,3,4,5,6]\n",
    "probs = [0.1, 0.2, 0.1, 0.3, 0.14, 0.11, 0.05]\n",
    "losses = [0, 5, 80, 140, 200, 500, 2000]\n",
    "\n",
    "prob_extreme = probs[0] + probs[-1]\n",
    "print('The probability of an extreme hurricane (grade 0 or 6) is ' + str(round(prob_extreme,2)))"
   ]
  },
  {
   "cell_type": "code",
   "execution_count": 2,
   "metadata": {},
   "outputs": [
    {
     "data": {
      "image/png": "[encoded data removed]",
      "text/plain": [
       "<Figure size 432x288 with 1 Axes>"
      ]
     },
     "metadata": {},
     "output_type": "display_data"
    }
   ],
   "source": [
    "figure(figsize=(6, 4))\n",
    "plt.title('Discrete Probability Distribution for Hurricane Grades')\n",
    "plt.xlabel('Hurricane Grade (0 - 6)')\n",
    "plt.ylabel('Probability')\n",
    "plt.bar(x=grades, height=probs)\n",
    "plt.show()"
   ]
  },
  {
   "cell_type": "markdown",
   "metadata": {},
   "source": [
    "#### (b) What is the probability of greater than a 3 grade hurricane season?"
   ]
  },
  {
   "cell_type": "markdown",
   "metadata": {},
   "source": [
    "Probability of greater than 3 grade hurricane = P(4) + P(5) + P(6) = 30%"
   ]
  },
  {
   "cell_type": "code",
   "execution_count": 3,
   "metadata": {},
   "outputs": [
    {
     "name": "stdout",
     "output_type": "stream",
     "text": [
      "The probability of a greater than grade 3 hurricane is 0.3\n"
     ]
    }
   ],
   "source": [
    "prob_greater_than_3 = sum(probs[4:])\n",
    "print('The probability of a greater than grade 3 hurricane is ' + str(prob_greater_than_3))"
   ]
  },
  {
   "cell_type": "markdown",
   "metadata": {},
   "source": [
    "#### (c) If a season is predicted to be greater than a 3 grade hurricane season, what is the expected loss?"
   ]
  },
  {
   "cell_type": "markdown",
   "metadata": {},
   "source": [
    "Expected loss for greater than 3 hurricane = $\\sum_{i=4}^{6} loss_i \\ast p(i  \\mid  x > 3) = \\sum_{i=4}^{6} loss_i \\ast p(i) /   [p(4) + p(5) + p(6)] $"
   ]
  },
  {
   "cell_type": "code",
   "execution_count": 4,
   "metadata": {},
   "outputs": [
    {
     "name": "stdout",
     "output_type": "stream",
     "text": [
      "The expected loss if the season is predicted to be greater than a 3 grade hurricane is $610.0\n"
     ]
    }
   ],
   "source": [
    "losses_456 = losses[4:]\n",
    "conditionals = []\n",
    "for j in probs[4:]:\n",
    "    conditionals.append(j/prob_greater_than_3)\n",
    "\n",
    "expected_loss = sum([x * y for x, y in zip(losses_456, conditionals)])\n",
    "print('The expected loss if the season is predicted to be greater than a 3 grade hurricane is $' + str(expected_loss))"
   ]
  },
  {
   "cell_type": "markdown",
   "metadata": {},
   "source": [
    "Given that the season is predicted to have a greater than grade 3 hurricane, the probability weights attached to the losses in the expected loss calculation must be calculated as the independent probability j of that grade hurricane, divided by the combined probability of any hurricane greater than grade 3 (0.30 in this case)."
   ]
  },
  {
   "cell_type": "markdown",
   "metadata": {},
   "source": [
    "#### (d) What is the mean, median, mode, and standard deviation of losses due to hurricanes in a hurricane season?"
   ]
  },
  {
   "cell_type": "markdown",
   "metadata": {},
   "source": [
    "Mean = $\\sum_{i=0}^{n} loss_i \\ast probability_i$\n",
    "<br>\n",
    "<br>\n",
    "Standard Deviation = $\\sqrt{\\frac{1}{N}\\sum_{i=1}^N(x_i-\\bar{x})^2}$"
   ]
  },
  {
   "cell_type": "code",
   "execution_count": 5,
   "metadata": {},
   "outputs": [
    {
     "name": "stdout",
     "output_type": "stream",
     "text": [
      "The mean of losses is $234.0\n",
      "The median of losses is $140.0\n",
      "The mode of losses is $140\n",
      "The standard deviation of losses is $664.8085500076435\n"
     ]
    }
   ],
   "source": [
    "mean = sum([x * y for x, y in zip(losses, probs)])\n",
    "print('The mean of losses is $' + str(mean))\n",
    "\n",
    "median = np.median(losses)\n",
    "print('The median of losses is $' + str(median))\n",
    "\n",
    "highest_prob = max(probs)\n",
    "idx = probs.index(highest_prob)\n",
    "mode = losses[idx]\n",
    "print('The mode of losses is $' + str(mode))\n",
    "\n",
    "stdev = np.std(losses)\n",
    "print('The standard deviation of losses is $' + str(stdev))"
   ]
  },
  {
   "cell_type": "markdown",
   "metadata": {},
   "source": [
    "The mean was calculated as a simple probability weighted sum. The monetary loss and associated probability for each hurricane grade are multiplied, and then all of these values are summed to get the average losses of this discrete distribution. \n",
    "<br>\n",
    "<br>\n",
    "The median is simply the central value of the sorted list of losses.\n",
    "<br>\n",
    "<br>\n",
    "The mode of the losses is the loss amount that corresponds to the highest probability.\n",
    "<br>\n",
    "<br>\n",
    "The population standard deviation was calculated for this example."
   ]
  },
  {
   "cell_type": "markdown",
   "metadata": {},
   "source": [
    "## Problem 3"
   ]
  },
  {
   "cell_type": "markdown",
   "metadata": {},
   "source": [
    "__Problem 3.__ Answer the following questions: (10 points each).\n",
    "<br>\n",
    "Annual demand forecast is being developed for a new product launch. The estimated probability density\n",
    "constructed based on survey data is given as,\n",
    "<br>\n",
    "<br>\n",
    "$$\n",
    "\\begin{equation}\n",
    "  f(x; p, \\lambda)=\\begin{cases}\n",
    "    \\lambda pe^{\\lambda(x-300)}, & \\text{if $x<300$}.\\\\\n",
    "    0, & \\text{if $x=300$}.\\\\\n",
    "    \\lambda (1-p) e^{-\\lambda(x-300)}, & \\text{if $x>300$}.\n",
    "  \\end{cases}\n",
    "\\end{equation}\n",
    "$$\n",
    "<br>\n",
    "This is the double-exponential risk model, where we will set p = 0.3 and $\\lambda$ = 0.02. All demands are in\n",
    "thousand (000) units. Use Jupyter with Scikitlearn and Pandas to perform the following computations."
   ]
  },
  {
   "cell_type": "markdown",
   "metadata": {},
   "source": [
    "__(a) From the above probability density function, construct the cumulative distribution function for the\n",
    "projected annual demand for the new product.__"
   ]
  },
  {
   "cell_type": "markdown",
   "metadata": {},
   "source": [
    "$$ F(x \\mid x < 300) = \\int_{-\\infty}^{x} \\lambda p e^{\\lambda(x-300)} dx $$\n",
    "$$ = \\lambda p \\left[\\frac{1}{\\lambda} e^{\\lambda(x-300)}\\right]_{-\\infty}^{x} $$ \n",
    "$$ = \\left[p e^{\\lambda(x-300)}\\right]_{-\\infty}^{x} $$\n",
    "$$ = p e^{\\lambda(x-300)} - 0 $$\n",
    "$$ = p e^{\\lambda(x-300)}$$\n",
    "<br>\n",
    "<br>\n",
    "$$ F(x \\mid x = 300) = \\frac{\\lambda p e^{\\lambda(x-300)}} {\\lambda} = pe^{0} = p $$\n",
    "<br>\n",
    "<br>\n",
    "$$ F(x \\mid x > 300) = \\int_{300}^{x} \\lambda (1-p) e^{-\\lambda(x-300)} dx $$\n",
    "$$ = \\lambda (1-p) \\left[\\frac{1}{-\\lambda} e^{-\\lambda(x-300)} \\right]_{300}^{x} $$\n",
    "$$ = \\left[(p-1) e^{-\\lambda(x-300)}dx\\right]_{300}^{x} $$\n",
    "$$ = (p-1) e^{-\\lambda(x-300)} - (p-1) e^0$$\n",
    "$$ = (p-1) e^{-\\lambda(x-300)} - p + 1 $$\n",
    "<br>\n",
    "<br>\n",
    "$$\n",
    "\\begin{equation}\n",
    "  F(x)=\\begin{cases}\n",
    "    pe^{\\lambda(x-300)}, & \\text{if $x < 300$}.\\\\\n",
    "    p, & \\text{if $x = 300$}.\\\\\n",
    "    (p-1) e^{-\\lambda(x-300)} - p + 1, & \\text{if $x>300$}.\\\\\n",
    "  \\end{cases}\n",
    "\\end{equation}\n",
    "$$"
   ]
  },
  {
   "cell_type": "code",
   "execution_count": 6,
   "metadata": {},
   "outputs": [
    {
     "data": {
      "image/png": "[encoded data removed]",
      "text/plain": [
       "<Figure size 576x432 with 1 Axes>"
      ]
     },
     "metadata": {},
     "output_type": "display_data"
    }
   ],
   "source": [
    "lam = 0.02\n",
    "p = 0.3\n",
    "\n",
    "f1 = lambda x: lam*p*np.exp(lam*(x-300))\n",
    "f2 = 0\n",
    "f3 = lambda x: lam*(1-p)*np.exp(-lam*(x-300))\n",
    "\n",
    "pdf = lambda x: np.piecewise(x, [x<300, x==300, x>300],[f1,f2,f3])\n",
    "\n",
    "x = np.linspace(0, 799, 800) #define in units of 1, restrict to values above 0 since demand cant be negative\n",
    "y = pdf(x)\n",
    "\n",
    "figure(figsize=(8, 6))\n",
    "plt.title('Probability Density Function Over Interval [0, 799]')\n",
    "plt.xlabel('# of Units Demanded (in thousands)')\n",
    "plt.ylabel('pdf(x)')\n",
    "plt.plot(x, y)\n",
    "plt.show()"
   ]
  },
  {
   "cell_type": "code",
   "execution_count": 7,
   "metadata": {},
   "outputs": [
    {
     "data": {
      "image/png": "[encoded data removed]",
      "text/plain": [
       "<Figure size 576x432 with 1 Axes>"
      ]
     },
     "metadata": {},
     "output_type": "display_data"
    }
   ],
   "source": [
    "np.set_printoptions(suppress=True)\n",
    "cdf = np.cumsum(y)\n",
    "\n",
    "figure(figsize=(8, 6))\n",
    "plt.title('Cumulative Density Function Over Interval [0, 799]')\n",
    "plt.xlabel('# of Units Demanded (in thousands)')\n",
    "plt.ylabel('Probability of x Units Being Demanded')\n",
    "plt.plot(x, cdf)\n",
    "plt.show()"
   ]
  },
  {
   "cell_type": "code",
   "execution_count": 8,
   "metadata": {},
   "outputs": [],
   "source": [
    "# CDF functions based on analytical solution\n",
    "def cdf_1(x,p,lam):\n",
    "    \"\"\"Cumulative distribution function for x < 300\"\"\"\n",
    "    return p*np.exp(lam*(x-300))\n",
    "\n",
    "def cdf_2(x,p,lam):\n",
    "    \"\"\"Cumulative distribution function for x > 300\"\"\"\n",
    "    return (p-1)*(np.exp(-lam*(x-300))) - p + 1"
   ]
  },
  {
   "cell_type": "markdown",
   "metadata": {},
   "source": [
    "__(b) How likely is the demand for the new product to be less than 350 per year?__"
   ]
  },
  {
   "cell_type": "markdown",
   "metadata": {},
   "source": [
    "$ P(x < 350) = F(350 \\mid x > 300) + F(300 \\mid x < 300)$"
   ]
  },
  {
   "cell_type": "code",
   "execution_count": 9,
   "metadata": {},
   "outputs": [
    {
     "name": "stdout",
     "output_type": "stream",
     "text": [
      "NUMPY SOLUTION: The probability that the demand for the new product is less than 350000 per year is 0.7443447771089213\n",
      "ANALYTICAL SOLUTION: The probability that the demand for the new product is less than 350000 per year is 0.7424843911799903\n"
     ]
    }
   ],
   "source": [
    "print('NUMPY SOLUTION: The probability that the demand for the new product is less than 350000 per year is ' + str(cdf[352]))\n",
    "\n",
    "x = 350\n",
    "p = 0.3\n",
    "lam = 0.02\n",
    "less_than_350 = cdf_2(x,p,lam) + cdf_1(300,p,lam)\n",
    "print('ANALYTICAL SOLUTION: The probability that the demand for the new product is less than 350000 per year is ' \n",
    "      + str(less_than_350))"
   ]
  },
  {
   "cell_type": "markdown",
   "metadata": {},
   "source": [
    "__(c) What is the probability that the demand will at least be as high as 250 per year?__"
   ]
  },
  {
   "cell_type": "markdown",
   "metadata": {},
   "source": [
    "$ P(x \\geq 250) = 1 - F(250 \\mid x < 300)$"
   ]
  },
  {
   "cell_type": "code",
   "execution_count": 10,
   "metadata": {},
   "outputs": [
    {
     "name": "stdout",
     "output_type": "stream",
     "text": [
      "NUMPY SOLUTION: The probability that the demand will be at least as high as 250000 is 0.8870131981458844\n",
      "ANALYTICAL SOLUTION: The probability that the demand will be at least as high as 250000 is 0.8896361676485673\n"
     ]
    }
   ],
   "source": [
    "print('NUMPY SOLUTION: The probability that the demand will be at least as high as 250000 is ' + str(1 - cdf[251]))\n",
    "\n",
    "x = 250\n",
    "greater_than_250 = 1 - cdf_1(x,p,lam)\n",
    "print('ANALYTICAL SOLUTION: The probability that the demand will be at least as high as 250000 is ' + str(greater_than_250))"
   ]
  },
  {
   "cell_type": "markdown",
   "metadata": {},
   "source": [
    "__(d) What is the probability the demand will exceed 400 per year?__"
   ]
  },
  {
   "cell_type": "markdown",
   "metadata": {},
   "source": [
    "$ P(x > 400) = 1 - F(400 \\mid x > 300)$"
   ]
  },
  {
   "cell_type": "code",
   "execution_count": 11,
   "metadata": {},
   "outputs": [
    {
     "name": "stdout",
     "output_type": "stream",
     "text": [
      "NUMPY SOLUTION: The probability that the demand will exceed 400000 is 0.10263621364678732\n",
      "ANALYTICAL SOLUTION: The probability that the demand will exceed 400000 is 0.09473469826562891\n"
     ]
    }
   ],
   "source": [
    "print('NUMPY SOLUTION: The probability that the demand will exceed 400000 is ' + str(1 - cdf[401]))\n",
    "\n",
    "x = 400\n",
    "greater_than_400 = 1 - cdf_2(x,p,lam) - cdf_1(300,p,lam)\n",
    "print('ANALYTICAL SOLUTION: The probability that the demand will exceed 400000 is ' + str(greater_than_400))"
   ]
  },
  {
   "cell_type": "markdown",
   "metadata": {},
   "source": [
    "Note that the slight discrepancies between the solutions obtained with NumPy operations as compared to the solutions obtained by analytically evaluating the functions are due to the fact that the interval over which the piecewise discrete probability function was defined with NumPy was only [0, 799], rather than $ [-\\infty, +\\infty] $. Practically speaking, demand can't be less than 0, so the solutions obtained with NumPy are more realistic."
   ]
  },
  {
   "cell_type": "markdown",
   "metadata": {},
   "source": [
    "__(e) What is the mean annual demand for the product? What is the standard deviation?__"
   ]
  },
  {
   "cell_type": "markdown",
   "metadata": {},
   "source": [
    "$$ Mean = \\int_{-\\infty}^{\\infty} x f(x) dx $$"
   ]
  },
  {
   "cell_type": "code",
   "execution_count": 12,
   "metadata": {},
   "outputs": [
    {
     "name": "stdout",
     "output_type": "stream",
     "text": [
      "Mean over interval [0, 799]: 317.01924533098963\n",
      "Mean over interval [0, 9999]: 317.046513323299\n",
      "The average annual units demanded is about 317,046\n"
     ]
    }
   ],
   "source": [
    "x = np.linspace(0, 799, 800)\n",
    "y = pdf(x)\n",
    "mean = np.dot(x,y)\n",
    "print('Mean over interval [0, 799]: ' + str(mean))\n",
    "\n",
    "x = np.linspace(0, 9999, 10000)\n",
    "y = pdf(x)\n",
    "mean = np.dot(x,y)\n",
    "print('Mean over interval [0, 9999]: ' + str(mean))\n",
    "\n",
    "print('The average annual units demanded is about 317,046')"
   ]
  },
  {
   "cell_type": "markdown",
   "metadata": {},
   "source": [
    "$$ Variance = E(X^{2}) - (E(X))^{2} $$\n",
    "$$ E(X^{2}) = \\int_{-\\infty}^{\\infty} x^{2} f(x) dx $$\n",
    "$$ Standard Deviation = \\sqrt{E(X^{2}) - (E(X))^{2}} $$"
   ]
  },
  {
   "cell_type": "code",
   "execution_count": 13,
   "metadata": {},
   "outputs": [
    {
     "name": "stdout",
     "output_type": "stream",
     "text": [
      "The standard deviation, evaluated over the interval [0, 799] is 74.66214232736367\n",
      "The standard deviation, evaluated over the interval [0, 9999] is 74.70200965130392\n",
      "The standard deviation of annual demand is about 74,700 units\n"
     ]
    }
   ],
   "source": [
    "x = np.linspace(0, 799, 800)\n",
    "x2 = np.square(x)\n",
    "y = pdf(x)\n",
    "E_x2 = np.dot(x2,y) # Expectation of X^2\n",
    "Ex_2 = np.dot(x,y)*np.dot(x,y) # Squared Expectation (the mean squared)\n",
    "\n",
    "stdev = np.sqrt(E_x2 - Ex_2)\n",
    "print('The standard deviation, evaluated over the interval [0, 799] is ' + str(stdev))\n",
    "\n",
    "\n",
    "x = np.linspace(0, 9999, 10000)\n",
    "x2 = np.square(x)\n",
    "y = pdf(x)\n",
    "E_x2 = np.dot(x2,y) # Expectation of X^2\n",
    "Ex_2 = np.dot(x,y)*np.dot(x,y) # Squared Expectation (the mean squared)\n",
    "\n",
    "stdev = np.sqrt(E_x2 - Ex_2)\n",
    "print('The standard deviation, evaluated over the interval [0, 9999] is ' + str(stdev))\n",
    "\n",
    "print('The standard deviation of annual demand is about 74,700 units')"
   ]
  },
  {
   "cell_type": "markdown",
   "metadata": {},
   "source": [
    "__Since the probability density function is unbounded, there is technically no single statistic for either the mean or the standard deviation - it depends on the interval over which they are calculated.__ 0 can be assumed as a lower bound for this problem, since it is dealing with unit demand for a product, but no upper bound can be assumed, although it is highly unlikely that x would exceed certain values. As x approaches infinity, the resulting mean and standard deviation will increase, but by diminishing amounts, since the probabilities associated with very high values of x are essentially 0. With these nuances in mind, __the average annual units demanded will be about 317,000 (assuming the upper bound for x is about 800 or more), and the standard deviation of anual demand will be about 74,700.__"
   ]
  }
 ],
 "metadata": {
  "kernelspec": {
   "display_name": "Python 3",
   "language": "python",
   "name": "python3"
  },
  "language_info": {
   "codemirror_mode": {
    "name": "ipython",
    "version": 3
   },
   "file_extension": ".py",
   "mimetype": "text/x-python",
   "name": "python",
   "nbconvert_exporter": "python",
   "pygments_lexer": "ipython3",
   "version": "3.6.5"
  }
 },
 "nbformat": 4,
 "nbformat_minor": 2
}
